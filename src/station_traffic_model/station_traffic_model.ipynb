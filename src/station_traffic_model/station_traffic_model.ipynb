{
 "cells": [
  {
   "metadata": {
    "ExecuteTime": {
     "end_time": "2025-02-22T21:19:31.053272Z",
     "start_time": "2025-02-22T21:19:22.744779Z"
    }
   },
   "cell_type": "code",
   "source": [
    "import optuna\n",
    "import torch\n",
    "import torch.nn as nn\n",
    "import torch.optim as optim\n",
    "\n",
    "from hyperparameter_tuning import objective\n",
    "from model_evaluator import ModelEvaluator\n",
    "from preprocessor import Preprocessor\n",
    "from station_traffic_model import StationTrafficModel"
   ],
   "id": "dcd492cbf7b6823b",
   "outputs": [],
   "execution_count": 1
  },
  {
   "metadata": {
    "ExecuteTime": {
     "end_time": "2025-02-22T21:19:32.687150Z",
     "start_time": "2025-02-22T21:19:32.636455Z"
    }
   },
   "cell_type": "code",
   "source": [
    "DATA_PATH = \"../../data/combined_tripdata.csv\"\n",
    "INPUT_SEQUENCE_LENGTH = 30\n",
    "OUTPUT_SEQUENCE_LENGTH = 1\n",
    "\n",
    "PATIENCE = 3\n",
    "NUM_EPOCHS = 20\n",
    "\n",
    "PERFORM_TUNING = True\n",
    "NUM_TRIALS = 3\n",
    "params = {\n",
    "    'model_type': 'lstm',\n",
    "    'hidden_size': 128,\n",
    "    'num_layers': 2,\n",
    "    'dropout': 0.2,\n",
    "    'learning_rate': 0.001,\n",
    "    'batch_size': 64,\n",
    "    'weight_decay': 0.0001\n",
    "}\n",
    "\n",
    "device = torch.device('cuda' if torch.cuda.is_available() else 'cpu')"
   ],
   "id": "7763eac1144ada5a",
   "outputs": [],
   "execution_count": 2
  },
  {
   "metadata": {
    "ExecuteTime": {
     "end_time": "2025-02-22T21:22:37.754009Z",
     "start_time": "2025-02-22T21:22:37.749054Z"
    }
   },
   "cell_type": "code",
   "source": [
    "# Preprocessing\n",
    "preprocessor = Preprocessor()\n",
    "preprocessor.preprocess_data(DATA_PATH, input_sequence_length=INPUT_SEQUENCE_LENGTH,\n",
    "                             output_sequence_length=OUTPUT_SEQUENCE_LENGTH)\n",
    "input_size = preprocessor.train_dataset.tensors[0].shape[2]\n",
    "output_size = preprocessor.train_dataset.tensors[1].shape[2]"
   ],
   "id": "a6a98e80f71e6258",
   "outputs": [],
   "execution_count": 5
  },
  {
   "metadata": {
    "ExecuteTime": {
     "end_time": "2025-02-22T21:29:24.662207Z",
     "start_time": "2025-02-22T21:22:47.602086Z"
    }
   },
   "cell_type": "code",
   "source": [
    "# Hyperparameter Tuning\n",
    "if PERFORM_TUNING:\n",
    "    study = optuna.create_study(direction='minimize')\n",
    "    study.optimize(lambda trial: objective(trial, input_size, output_size,\n",
    "                                           OUTPUT_SEQUENCE_LENGTH, PATIENCE, NUM_EPOCHS, preprocessor, device),\n",
    "                   n_trials=NUM_TRIALS)\n",
    "    print(\"Best hyperparameters:\", study.best_params)\n",
    "    params = params | study.best_params"
   ],
   "id": "c7cf3bda7f942df6",
   "outputs": [
    {
     "name": "stderr",
     "output_type": "stream",
     "text": [
      "[I 2025-02-22 16:22:47,606] A new study created in memory with name: no-name-99947e96-0d3a-4356-add9-15494b0ce1d0\n"
     ]
    },
    {
     "data": {
      "text/plain": [
       "[1/4682]   0%|           [00:00<?]"
      ],
      "application/vnd.jupyter.widget-view+json": {
       "version_major": 2,
       "version_minor": 0,
       "model_id": "8f6512a29af5421bac9a26627722382b"
      }
     },
     "metadata": {},
     "output_type": "display_data"
    },
    {
     "name": "stdout",
     "output_type": "stream",
     "text": [
      "Epoch [1/20] Train Loss: 1277.5081884050717\n",
      "Epoch [1/20] Validation Loss: 853.7254851228978\n"
     ]
    },
    {
     "data": {
      "text/plain": [
       "[1/4682]   0%|           [00:00<?]"
      ],
      "application/vnd.jupyter.widget-view+json": {
       "version_major": 2,
       "version_minor": 0,
       "model_id": "b4d947f96d594718b1457bd8af47e015"
      }
     },
     "metadata": {},
     "output_type": "display_data"
    },
    {
     "name": "stdout",
     "output_type": "stream",
     "text": [
      "Epoch [2/20] Train Loss: 1265.4944782081961\n",
      "Epoch [2/20] Validation Loss: 788.6137128072445\n"
     ]
    },
    {
     "data": {
      "text/plain": [
       "[1/4682]   0%|           [00:00<?]"
      ],
      "application/vnd.jupyter.widget-view+json": {
       "version_major": 2,
       "version_minor": 0,
       "model_id": "ab4a273ae6a94299bc9b4b697b273bc1"
      }
     },
     "metadata": {},
     "output_type": "display_data"
    },
    {
     "name": "stdout",
     "output_type": "stream",
     "text": [
      "Epoch [3/20] Train Loss: 1293.7475761853748\n",
      "Epoch [3/20] Validation Loss: 730.3680896938336\n"
     ]
    },
    {
     "data": {
      "text/plain": [
       "[1/4682]   0%|           [00:00<?]"
      ],
      "application/vnd.jupyter.widget-view+json": {
       "version_major": 2,
       "version_minor": 0,
       "model_id": "99c87d80c72d42f3b5c9625a62324cee"
      }
     },
     "metadata": {},
     "output_type": "display_data"
    },
    {
     "name": "stdout",
     "output_type": "stream",
     "text": [
      "Epoch [4/20] Train Loss: 1282.715019473953\n",
      "Epoch [4/20] Validation Loss: 870.4656317378181\n"
     ]
    },
    {
     "data": {
      "text/plain": [
       "[1/4682]   0%|           [00:00<?]"
      ],
      "application/vnd.jupyter.widget-view+json": {
       "version_major": 2,
       "version_minor": 0,
       "model_id": "8c3dc9c7090942dbbc8efed2fee59d65"
      }
     },
     "metadata": {},
     "output_type": "display_data"
    },
    {
     "name": "stderr",
     "output_type": "stream",
     "text": [
      "2025-02-22 16:27:21,248 ignite.handlers.early_stopping.EarlyStopping INFO: EarlyStopping: Stop training\n"
     ]
    },
    {
     "name": "stdout",
     "output_type": "stream",
     "text": [
      "Epoch [5/20] Train Loss: 1265.5870720986813\n"
     ]
    },
    {
     "name": "stderr",
     "output_type": "stream",
     "text": [
      "2025-02-22 16:27:25,181 ignite.handlers.early_stopping.EarlyStopping INFO: EarlyStopping: Stop training\n"
     ]
    },
    {
     "name": "stdout",
     "output_type": "stream",
     "text": [
      "Epoch [5/20] Validation Loss: 783.582406209573\n"
     ]
    },
    {
     "name": "stderr",
     "output_type": "stream",
     "text": [
      "[I 2025-02-22 16:27:32,471] Trial 0 finished with value: 730.3671264648438 and parameters: {'model_type': 'lstm', 'hidden_size': 128, 'num_layers': 3, 'dropout': 0.4, 'learning_rate': 0.09744150406715411, 'batch_size': 64, 'weight_decay': 0.028872651849157327}. Best is trial 0 with value: 730.3671264648438.\n"
     ]
    },
    {
     "name": "stdout",
     "output_type": "stream",
     "text": [
      "\n",
      "Model Evaluation Metrics:\n",
      "mse: 730.3671\n",
      "rmse: 27.0253\n",
      "mae: 17.8600\n"
     ]
    },
    {
     "data": {
      "text/plain": [
       "[1/1171]   0%|           [00:00<?]"
      ],
      "application/vnd.jupyter.widget-view+json": {
       "version_major": 2,
       "version_minor": 0,
       "model_id": "4323d46951ea42259686c0793b8e7d5f"
      }
     },
     "metadata": {},
     "output_type": "display_data"
    },
    {
     "name": "stdout",
     "output_type": "stream",
     "text": [
      "Epoch [1/20] Train Loss: 506.77501326631756\n",
      "Epoch [1/20] Validation Loss: 260.58417421302283\n"
     ]
    },
    {
     "data": {
      "text/plain": [
       "[1/1171]   0%|           [00:00<?]"
      ],
      "application/vnd.jupyter.widget-view+json": {
       "version_major": 2,
       "version_minor": 0,
       "model_id": "4060d96b4d23451498ab31ddd304b2ed"
      }
     },
     "metadata": {},
     "output_type": "display_data"
    },
    {
     "name": "stdout",
     "output_type": "stream",
     "text": [
      "Epoch [2/20] Train Loss: 465.2520466840881\n",
      "Epoch [2/20] Validation Loss: 264.5030185424752\n"
     ]
    },
    {
     "data": {
      "text/plain": [
       "[1/1171]   0%|           [00:00<?]"
      ],
      "application/vnd.jupyter.widget-view+json": {
       "version_major": 2,
       "version_minor": 0,
       "model_id": "2fecf2eb16b54918b97021075f51642b"
      }
     },
     "metadata": {},
     "output_type": "display_data"
    },
    {
     "name": "stderr",
     "output_type": "stream",
     "text": [
      "2025-02-22 16:28:56,425 ignite.handlers.early_stopping.EarlyStopping INFO: EarlyStopping: Stop training\n"
     ]
    },
    {
     "name": "stdout",
     "output_type": "stream",
     "text": [
      "Epoch [3/20] Train Loss: 437.25101875306626\n",
      "Epoch [3/20] Validation Loss: 251.8895429064252\n"
     ]
    },
    {
     "name": "stderr",
     "output_type": "stream",
     "text": [
      "[I 2025-02-22 16:29:04,590] Trial 1 finished with value: 251.88967895507812 and parameters: {'model_type': 'lstm', 'hidden_size': 128, 'num_layers': 3, 'dropout': 0.35000000000000003, 'learning_rate': 0.012784628814533171, 'batch_size': 256, 'weight_decay': 0.0055827167974556065}. Best is trial 1 with value: 251.88967895507812.\n"
     ]
    },
    {
     "name": "stdout",
     "output_type": "stream",
     "text": [
      "\n",
      "Model Evaluation Metrics:\n",
      "mse: 251.8897\n",
      "rmse: 15.8710\n",
      "mae: 8.6187\n"
     ]
    },
    {
     "data": {
      "text/plain": [
       "[1/37454]   0%|           [00:00<?]"
      ],
      "application/vnd.jupyter.widget-view+json": {
       "version_major": 2,
       "version_minor": 0,
       "model_id": "b8bda01113ec4141b773e937169e74ab"
      }
     },
     "metadata": {},
     "output_type": "display_data"
    },
    {
     "name": "stderr",
     "output_type": "stream",
     "text": [
      "Engine run is terminating due to exception: \n",
      "[W 2025-02-22 16:29:24,429] Trial 2 failed with parameters: {'model_type': 'lstm', 'hidden_size': 256, 'num_layers': 3, 'dropout': 0.30000000000000004, 'learning_rate': 0.06359711378690865, 'batch_size': 8, 'weight_decay': 1.6085505377630135e-05} because of the following error: KeyboardInterrupt().\n",
      "Traceback (most recent call last):\n",
      "  File \"D:\\Repos\\aai530_2proj\\.venv\\Lib\\site-packages\\optuna\\study\\_optimize.py\", line 197, in _run_trial\n",
      "    value_or_values = func(trial)\n",
      "                      ^^^^^^^^^^^\n",
      "  File \"C:\\Users\\Doug\\AppData\\Local\\Temp\\ipykernel_30864\\3491105001.py\", line 4, in <lambda>\n",
      "    study.optimize(lambda trial: objective(trial, input_size, output_size,\n",
      "                                 ^^^^^^^^^^^^^^^^^^^^^^^^^^^^^^^^^^^^^^^^^\n",
      "  File \"D:\\Repos\\aai530_2proj\\src\\station_traffic_model\\hyperparameter_tuning.py\", line 25, in objective\n",
      "    model.train_model(criterion, optimizer, train_loader, val_loader, num_epochs, patience, device)\n",
      "  File \"D:\\Repos\\aai530_2proj\\src\\station_traffic_model\\station_traffic_model.py\", line 116, in train_model\n",
      "    trainer.run(train_loader, max_epochs=num_epochs)\n",
      "  File \"D:\\Repos\\aai530_2proj\\.venv\\Lib\\site-packages\\ignite\\engine\\engine.py\", line 889, in run\n",
      "    return self._internal_run()\n",
      "           ^^^^^^^^^^^^^^^^^^^^\n",
      "  File \"D:\\Repos\\aai530_2proj\\.venv\\Lib\\site-packages\\ignite\\engine\\engine.py\", line 932, in _internal_run\n",
      "    return next(self._internal_run_generator)\n",
      "           ^^^^^^^^^^^^^^^^^^^^^^^^^^^^^^^^^^\n",
      "  File \"D:\\Repos\\aai530_2proj\\.venv\\Lib\\site-packages\\ignite\\engine\\engine.py\", line 990, in _internal_run_as_gen\n",
      "    self._handle_exception(e)\n",
      "  File \"D:\\Repos\\aai530_2proj\\.venv\\Lib\\site-packages\\ignite\\engine\\engine.py\", line 644, in _handle_exception\n",
      "    raise e\n",
      "  File \"D:\\Repos\\aai530_2proj\\.venv\\Lib\\site-packages\\ignite\\engine\\engine.py\", line 956, in _internal_run_as_gen\n",
      "    epoch_time_taken += yield from self._run_once_on_dataset_as_gen()\n",
      "                        ^^^^^^^^^^^^^^^^^^^^^^^^^^^^^^^^^^^^^^^^^^^^^\n",
      "  File \"D:\\Repos\\aai530_2proj\\.venv\\Lib\\site-packages\\ignite\\engine\\engine.py\", line 1077, in _run_once_on_dataset_as_gen\n",
      "    self.state.output = self._process_function(self, self.state.batch)\n",
      "                        ^^^^^^^^^^^^^^^^^^^^^^^^^^^^^^^^^^^^^^^^^^^^^^\n",
      "  File \"D:\\Repos\\aai530_2proj\\.venv\\Lib\\site-packages\\ignite\\engine\\__init__.py\", line 114, in update\n",
      "    output = model_fn(model, x)\n",
      "             ^^^^^^^^^^^^^^^^^^\n",
      "  File \"D:\\Repos\\aai530_2proj\\.venv\\Lib\\site-packages\\ignite\\engine\\__init__.py\", line 439, in <lambda>\n",
      "    model_fn: Callable[[torch.nn.Module, Any], Any] = lambda model, x: model(x),\n",
      "                                                                       ^^^^^^^^\n",
      "  File \"D:\\Repos\\aai530_2proj\\.venv\\Lib\\site-packages\\torch\\nn\\modules\\module.py\", line 1739, in _wrapped_call_impl\n",
      "    return self._call_impl(*args, **kwargs)\n",
      "           ^^^^^^^^^^^^^^^^^^^^^^^^^^^^^^^^\n",
      "  File \"D:\\Repos\\aai530_2proj\\.venv\\Lib\\site-packages\\torch\\nn\\modules\\module.py\", line 1750, in _call_impl\n",
      "    return forward_call(*args, **kwargs)\n",
      "           ^^^^^^^^^^^^^^^^^^^^^^^^^^^^^\n",
      "  File \"D:\\Repos\\aai530_2proj\\src\\station_traffic_model\\station_traffic_model.py\", line 52, in forward\n",
      "    _, (hidden, _) = self.encoder(x, (h0, c0))\n",
      "                     ^^^^^^^^^^^^^^^^^^^^^^^^^\n",
      "  File \"D:\\Repos\\aai530_2proj\\.venv\\Lib\\site-packages\\torch\\nn\\modules\\module.py\", line 1739, in _wrapped_call_impl\n",
      "    return self._call_impl(*args, **kwargs)\n",
      "           ^^^^^^^^^^^^^^^^^^^^^^^^^^^^^^^^\n",
      "  File \"D:\\Repos\\aai530_2proj\\.venv\\Lib\\site-packages\\torch\\nn\\modules\\module.py\", line 1750, in _call_impl\n",
      "    return forward_call(*args, **kwargs)\n",
      "           ^^^^^^^^^^^^^^^^^^^^^^^^^^^^^\n",
      "  File \"D:\\Repos\\aai530_2proj\\.venv\\Lib\\site-packages\\torch\\nn\\modules\\rnn.py\", line 1124, in forward\n",
      "    result = _VF.lstm(\n",
      "             ^^^^^^^^^\n",
      "KeyboardInterrupt\n",
      "[W 2025-02-22 16:29:24,481] Trial 2 failed with value None.\n",
      "\n",
      "KeyboardInterrupt\n",
      "\n"
     ]
    }
   ],
   "execution_count": 6
  },
  {
   "metadata": {},
   "cell_type": "code",
   "outputs": [],
   "execution_count": null,
   "source": [
    "# Training\n",
    "train_loader, val_loader, test_loader = preprocessor.get_loaders(params['batch_size'])\n",
    "model = StationTrafficModel(params['model_type'], input_size, params['hidden_size'],\n",
    "                            output_size,\n",
    "                            OUTPUT_SEQUENCE_LENGTH, params['num_layers'],\n",
    "                            params['dropout'])\n",
    "criterion = nn.MSELoss()\n",
    "optimizer = optim.Adam(model.parameters(), lr=params['learning_rate'], weight_decay=params['weight_decay'])\n",
    "model.train_model(criterion, optimizer, train_loader, val_loader, NUM_EPOCHS, PATIENCE, device)"
   ],
   "id": "6bc102376fa7bd8b"
  },
  {
   "metadata": {},
   "cell_type": "code",
   "outputs": [],
   "execution_count": null,
   "source": [
    "# Evaluation\n",
    "evaluator = ModelEvaluator(model)\n",
    "targets, predictions = evaluator.evaluate(test_loader)\n",
    "metrics = evaluator.calculate_metrics(targets, predictions)\n",
    "evaluator.plot_predictions(targets, predictions)"
   ],
   "id": "7227235401c42de3"
  }
 ],
 "metadata": {
  "kernelspec": {
   "name": "python3",
   "language": "python",
   "display_name": "Python 3 (ipykernel)"
  }
 },
 "nbformat": 5,
 "nbformat_minor": 9
}
