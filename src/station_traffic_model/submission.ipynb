{
 "cells": [
  {
   "metadata": {
    "ExecuteTime": {
     "end_time": "2025-02-23T17:24:59.010521Z",
     "start_time": "2025-02-23T17:24:50.761661Z"
    }
   },
   "cell_type": "code",
   "source": [
    "import matplotlib.pyplot as plt\n",
    "import numpy as np\n",
    "import optuna\n",
    "import pandas as pd\n",
    "import torch\n",
    "import torch.nn as nn\n",
    "import torch.optim as optim\n",
    "import torch.utils.data as data_utils\n",
    "from ignite.contrib.handlers import ProgressBar\n",
    "from ignite.engine import Engine\n",
    "from ignite.engine import Events, create_supervised_trainer, create_supervised_evaluator\n",
    "from ignite.handlers import EarlyStopping, ModelCheckpoint\n",
    "from ignite.metrics import Loss\n",
    "from ignite.metrics import MeanSquaredError, RootMeanSquaredError, MeanAbsoluteError\n",
    "from sklearn.metrics import mean_squared_error, mean_absolute_error\n",
    "from sklearn.model_selection import train_test_split\n",
    "from sklearn.preprocessing import LabelEncoder, StandardScaler\n",
    "from tqdm import tqdm"
   ],
   "id": "dcd492cbf7b6823b",
   "outputs": [],
   "execution_count": 1
  },
  {
   "metadata": {
    "ExecuteTime": {
     "end_time": "2025-02-23T17:24:59.076532Z",
     "start_time": "2025-02-23T17:24:59.022632Z"
    }
   },
   "cell_type": "code",
   "source": [
    "DATA_PATH = \"../../data/combined_tripdata.csv\"\n",
    "INPUT_SEQUENCE_LENGTH = 30\n",
    "OUTPUT_SEQUENCE_LENGTH = 1\n",
    "\n",
    "PATIENCE = 3\n",
    "NUM_EPOCHS = 20\n",
    "\n",
    "PERFORM_TUNING = False\n",
    "NUM_TRIALS = 30\n",
    "params = {\n",
    "    'model_type': 'lstm',\n",
    "    'hidden_size': 256,\n",
    "    'num_layers': 3,\n",
    "    'dropout': 0.3,\n",
    "    'learning_rate': 0.00064,\n",
    "    'batch_size': 128,\n",
    "    'weight_decay': 1.12041e-6\n",
    "}\n",
    "\n",
    "device = torch.device('cuda' if torch.cuda.is_available() else 'cpu')"
   ],
   "id": "b23c0d82f445babc",
   "outputs": [],
   "execution_count": 2
  },
  {
   "metadata": {
    "ExecuteTime": {
     "end_time": "2025-02-23T17:24:59.422851Z",
     "start_time": "2025-02-23T17:24:59.408851Z"
    }
   },
   "cell_type": "code",
   "source": [
    "class Preprocessor:\n",
    "    MINIMUM_TRAIN_DAYS = 365\n",
    "\n",
    "    columns_to_load = [\n",
    "        'started_at', 'start_station_id', 'start_lat', 'start_lng',\n",
    "    ]\n",
    "    date_columns = ['started_at']\n",
    "\n",
    "    train_dataset = None\n",
    "    val_dataset = None\n",
    "    test_dataset = None\n",
    "\n",
    "    def preprocess_data(self, data_path: str, train_proportion: float = 0.6,\n",
    "                        validation_proportion: float = 0.2,\n",
    "                        input_sequence_length: int = 30, output_sequence_length: int = 1):\n",
    "        # Load Data\n",
    "        data = pd.read_csv(data_path, usecols=self.columns_to_load, parse_dates=self.date_columns)\n",
    "        data['start_station_id'] = data['start_station_id'].astype('string')\n",
    "        data['date'] = pd.to_datetime(data['started_at'], errors='coerce').dt.date\n",
    "        data.rename(columns={'start_station_id': 'station_id', 'start_lat': 'latitude', 'start_lng': 'longitude'},\n",
    "                    inplace=True)\n",
    "        data.dropna(inplace=True)\n",
    "\n",
    "        # Standardize coordinates\n",
    "        station_coords = data.groupby('station_id').agg({'latitude': 'median', 'longitude': 'median'}).reset_index()\n",
    "        data = data.merge(station_coords, on='station_id', how='left', suffixes=('_orig', ''))\n",
    "        data.drop(['latitude_orig', 'longitude_orig'], axis=1, inplace=True)\n",
    "\n",
    "        # Group to get counts\n",
    "        data = data.groupby(['station_id', 'latitude', 'longitude', 'date']).size().reset_index(name='count')\n",
    "\n",
    "        # Encoding\n",
    "        label_encoder = LabelEncoder()\n",
    "        data['station_id'] = label_encoder.fit_transform(data['station_id'])\n",
    "\n",
    "        data['date'] = pd.to_datetime(data['date'])\n",
    "        data['day_of_week'] = data['date'].dt.weekday\n",
    "        data['day_of_month'] = data['date'].dt.day\n",
    "        data['month'] = data['date'].dt.month\n",
    "        data['day_of_week_sin'] = np.sin(2 * np.pi * data['day_of_week'] / 7)\n",
    "        data['day_of_week_cos'] = np.cos(2 * np.pi * data['day_of_week'] / 7)\n",
    "        data['day_of_month_sin'] = np.sin(2 * np.pi * data['day_of_month'] / 31)\n",
    "        data['day_of_month_cos'] = np.cos(2 * np.pi * data['day_of_month'] / 31)\n",
    "        data['month_sin'] = np.sin(2 * np.pi * data['month'] / 12)\n",
    "        data['month_cos'] = np.cos(2 * np.pi * data['month'] / 12)\n",
    "        data.drop(['day_of_week', 'day_of_month', 'month'], axis=1, inplace=True)\n",
    "\n",
    "        # Remove stations outside training\n",
    "        train_rows = int(len(data) * train_proportion)\n",
    "        train_subset = data.iloc[:train_rows]\n",
    "        train_subset = train_subset.groupby('station_id').size().reset_index(name='count')\n",
    "        station_ids_to_include = train_subset[train_subset['count'] > self.MINIMUM_TRAIN_DAYS]['station_id'].tolist()\n",
    "        data = data[data['station_id'].isin(station_ids_to_include)]\n",
    "\n",
    "        # Split data\n",
    "        train, x_temp = train_test_split(data, train_size=train_proportion, shuffle=False)\n",
    "        val, test = train_test_split(x_temp, train_size=validation_proportion / (1 - train_proportion), shuffle=False)\n",
    "        scaler = StandardScaler()\n",
    "        scaler.fit(train.drop('date', axis=1))\n",
    "\n",
    "        # Create sequences\n",
    "        x_train, y_train = self.create_sequences(train, scaler, seq_length=input_sequence_length,\n",
    "                                                 target_length=output_sequence_length)\n",
    "        x_val, y_val = self.create_sequences(val, scaler, seq_length=input_sequence_length,\n",
    "                                             target_length=output_sequence_length)\n",
    "        x_test, y_test = self.create_sequences(test, scaler, seq_length=input_sequence_length,\n",
    "                                               target_length=output_sequence_length)\n",
    "\n",
    "        # Convert to tensors\n",
    "        self.train_dataset = data_utils.TensorDataset(torch.FloatTensor(x_train), torch.FloatTensor(y_train))\n",
    "        self.val_dataset = data_utils.TensorDataset(torch.FloatTensor(x_val), torch.FloatTensor(y_val))\n",
    "        self.test_dataset = data_utils.TensorDataset(torch.FloatTensor(x_test), torch.FloatTensor(y_test))\n",
    "\n",
    "    @staticmethod\n",
    "    def create_sequences(data: pd.DataFrame, scaler: StandardScaler, seq_length: int, target_length: int):\n",
    "        x, y = [], []\n",
    "        station_ids = data['station_id'].unique()\n",
    "        for station_id in tqdm(station_ids):\n",
    "            x_data = data[data['station_id'] == station_id].sort_values('date', ascending=True)\n",
    "            x_data.drop(['date'], axis=1, inplace=True)\n",
    "            y_data = x_data[['count']]\n",
    "\n",
    "            x_values = scaler.transform(x_data)\n",
    "            y_values = y_data.values\n",
    "\n",
    "            for i in range(len(x_data) - seq_length - target_length + 1):\n",
    "                x.append(x_values[i:(i + seq_length)])\n",
    "                y.append(y_values[(i + seq_length):(i + seq_length + target_length)])\n",
    "\n",
    "        return np.array(x), np.array(y)\n",
    "\n",
    "    def get_loaders(self, batch_size: int):\n",
    "        train_loader = data_utils.DataLoader(self.train_dataset, batch_size=batch_size, shuffle=True)\n",
    "        val_loader = data_utils.DataLoader(self.val_dataset, batch_size=batch_size, shuffle=False)\n",
    "        test_loader = data_utils.DataLoader(self.test_dataset, batch_size=batch_size, shuffle=False)\n",
    "\n",
    "        return train_loader, val_loader, test_loader"
   ],
   "id": "7763eac1144ada5a",
   "outputs": [],
   "execution_count": 3
  },
  {
   "metadata": {
    "ExecuteTime": {
     "end_time": "2025-02-23T17:26:20.735884Z",
     "start_time": "2025-02-23T17:24:59.438771Z"
    }
   },
   "cell_type": "code",
   "source": [
    "# Preprocessing\n",
    "preprocessor = Preprocessor()\n",
    "preprocessor.preprocess_data(DATA_PATH, input_sequence_length=INPUT_SEQUENCE_LENGTH,\n",
    "                             output_sequence_length=OUTPUT_SEQUENCE_LENGTH)\n",
    "input_size = preprocessor.train_dataset.tensors[0].shape[2]\n",
    "output_size = preprocessor.train_dataset.tensors[1].shape[2]"
   ],
   "id": "28b05d8ffc1028e8",
   "outputs": [
    {
     "name": "stderr",
     "output_type": "stream",
     "text": [
      "C:\\Users\\Doug\\AppData\\Local\\Temp\\ipykernel_35796\\514216289.py:17: DtypeWarning: Columns (5) have mixed types. Specify dtype option on import or set low_memory=False.\n",
      "  data = pd.read_csv(data_path, usecols=self.columns_to_load, parse_dates=self.date_columns)\n"
     ]
    },
    {
     "name": "stdout",
     "output_type": "stream",
     "text": [
      "Empty values: started_at          0\n",
      "station_id    3465171\n",
      "latitude            0\n",
      "longitude           0\n",
      "date          4166326\n",
      "dtype: int64\n"
     ]
    },
    {
     "name": "stderr",
     "output_type": "stream",
     "text": [
      "100%|██████████| 177/177 [00:00<00:00, 231.08it/s]\n",
      "100%|██████████| 103/103 [00:00<00:00, 394.03it/s]\n",
      "100%|██████████| 91/91 [00:00<00:00, 517.49it/s]\n"
     ]
    }
   ],
   "execution_count": 4
  },
  {
   "metadata": {
    "ExecuteTime": {
     "end_time": "2025-02-23T17:26:20.827373Z",
     "start_time": "2025-02-23T17:26:20.811107Z"
    }
   },
   "cell_type": "code",
   "source": [
    "class ModelEvaluator:\n",
    "    def __init__(self, model):\n",
    "        self.model = model\n",
    "        self.device = next(model.parameters()).device\n",
    "\n",
    "    def create_evaluator(self):\n",
    "\n",
    "        def evaluation_step(engine, batch):\n",
    "            self.model.eval()\n",
    "            with torch.no_grad():\n",
    "                x, y = batch\n",
    "                x = x.to(self.device)\n",
    "                y = y.to(self.device)\n",
    "                y_pred = self.model(x)\n",
    "                return y_pred, y\n",
    "\n",
    "        evaluator = Engine(evaluation_step)\n",
    "\n",
    "        metrics = {\n",
    "            'mse': MeanSquaredError(),\n",
    "            'rmse': RootMeanSquaredError(),\n",
    "            'mae': MeanAbsoluteError()\n",
    "        }\n",
    "\n",
    "        for name, metric in metrics.items():\n",
    "            metric.attach(evaluator, name)\n",
    "\n",
    "        return evaluator\n",
    "\n",
    "    def evaluate(self, test_loader):\n",
    "        self.model.eval()\n",
    "        predictions = []\n",
    "        targets = []\n",
    "\n",
    "        evaluator = self.create_evaluator()\n",
    "        evaluator.run(test_loader)\n",
    "\n",
    "        with torch.no_grad():\n",
    "            for x, y in test_loader:\n",
    "                x = x.to(self.device)\n",
    "                y_pred = self.model(x)\n",
    "                predictions.append(y_pred.cpu().numpy())\n",
    "                targets.append(y.numpy())\n",
    "\n",
    "        predictions = np.concatenate(predictions)\n",
    "        targets = np.concatenate(targets)\n",
    "\n",
    "        return targets, predictions\n",
    "\n",
    "    def calculate_metrics(self, targets, predictions):\n",
    "        targets_2d = targets.reshape(-1, targets.shape[-1])\n",
    "        predictions_2d = predictions.reshape(-1, predictions.shape[-1])\n",
    "\n",
    "        mse = mean_squared_error(targets_2d, predictions_2d)\n",
    "        rmse = np.sqrt(mse)\n",
    "        mae = mean_absolute_error(targets_2d, predictions_2d)\n",
    "\n",
    "        metrics = {\n",
    "            'mse': mse,\n",
    "            'rmse': rmse,\n",
    "            'mae': mae\n",
    "        }\n",
    "\n",
    "        print(\"\\nModel Evaluation Metrics:\")\n",
    "        for metric_name, value in metrics.items():\n",
    "            print(f\"{metric_name}: {value:.4f}\")\n",
    "\n",
    "        return metrics\n",
    "\n",
    "    def plot_predictions(self, targets, predictions):\n",
    "        plt.figure(figsize=(10, 6))\n",
    "\n",
    "        targets_flat = targets.reshape(-1)\n",
    "        predictions_flat = predictions.reshape(-1)\n",
    "\n",
    "        plt.scatter(targets_flat, predictions_flat, alpha=0.5, s=1)\n",
    "\n",
    "        max_val = max(targets_flat.max(), predictions_flat.max())\n",
    "        min_val = min(targets_flat.min(), predictions_flat.min())\n",
    "        plt.plot([min_val, max_val], [min_val, max_val], 'r--', label='Perfect Prediction')\n",
    "\n",
    "        plt.xlabel('Actual Values')\n",
    "        plt.ylabel('Predicted Values')\n",
    "        plt.title('Predicted vs Actual Values')\n",
    "        plt.legend()\n",
    "        plt.grid(True)\n",
    "\n",
    "        plt.tight_layout()\n",
    "        plt.show()"
   ],
   "id": "bd29c1a2dd7572f6",
   "outputs": [],
   "execution_count": 5
  },
  {
   "metadata": {
    "ExecuteTime": {
     "end_time": "2025-02-23T17:26:20.879670Z",
     "start_time": "2025-02-23T17:26:20.864192Z"
    }
   },
   "cell_type": "code",
   "source": [
    "class StationTrafficModel(nn.Module):\n",
    "    def __init__(self, model_type, input_size, hidden_size, output_size, output_sequence_length, num_layers, dropout):\n",
    "        super(StationTrafficModel, self).__init__()\n",
    "        self.model_type = model_type.lower()\n",
    "        self.hidden_size = hidden_size\n",
    "        self.num_layers = num_layers\n",
    "        self.output_sequence_length = output_sequence_length\n",
    "        self.output_size = output_size\n",
    "\n",
    "        if self.model_type == 'lstm':\n",
    "            self.encoder = nn.LSTM(\n",
    "                input_size=input_size,\n",
    "                hidden_size=hidden_size,\n",
    "                num_layers=num_layers,\n",
    "                dropout=dropout if num_layers > 1 else 0,\n",
    "                batch_first=True\n",
    "            )\n",
    "        elif self.model_type == 'gru':\n",
    "            self.encoder = nn.GRU(\n",
    "                input_size=input_size,\n",
    "                hidden_size=hidden_size,\n",
    "                num_layers=num_layers,\n",
    "                dropout=dropout if num_layers > 1 else 0,\n",
    "                batch_first=True\n",
    "            )\n",
    "        else:\n",
    "            raise ValueError(\"model_type must be either 'lstm' or 'gru'\")\n",
    "\n",
    "        self.decoder = nn.GRU(\n",
    "            input_size=output_size,\n",
    "            hidden_size=hidden_size,\n",
    "            num_layers=1,\n",
    "            batch_first=True\n",
    "        )\n",
    "\n",
    "        self.output_layer = nn.Linear(hidden_size, output_size)\n",
    "\n",
    "    def forward(self, x):\n",
    "        batch_size = x.size(0)\n",
    "\n",
    "        if self.model_type == 'lstm':\n",
    "            h0 = torch.zeros(self.num_layers, batch_size, self.hidden_size).to(x.device)\n",
    "            c0 = torch.zeros(self.num_layers, batch_size, self.hidden_size).to(x.device)\n",
    "            _, (hidden, _) = self.encoder(x, (h0, c0))\n",
    "        else:\n",
    "            h0 = torch.zeros(self.num_layers, batch_size, self.hidden_size).to(x.device)\n",
    "            _, hidden = self.encoder(x, h0)\n",
    "\n",
    "        decoder_hidden = hidden[-1].unsqueeze(0)\n",
    "        decoder_input = torch.zeros(batch_size, 1, self.output_size).to(x.device)\n",
    "        outputs = []\n",
    "\n",
    "        for _ in range(self.output_sequence_length):\n",
    "            decoder_output, decoder_hidden = self.decoder(decoder_input, decoder_hidden)\n",
    "            prediction = self.output_layer(decoder_output)\n",
    "            outputs.append(prediction)\n",
    "            decoder_input = prediction\n",
    "\n",
    "        return torch.cat(outputs, dim=1)\n",
    "\n",
    "    def train_model(self, criterion, optimizer, train_loader, val_loader, num_epochs, patience, device):\n",
    "        self.to(device)\n",
    "\n",
    "        trainer = create_supervised_trainer(self, optimizer, criterion, device=device)\n",
    "        evaluator = create_supervised_evaluator(\n",
    "            self,\n",
    "            metrics={'loss': Loss(criterion)},\n",
    "            device=device\n",
    "        )\n",
    "        history = {'train_loss': [], 'val_loss': []}\n",
    "\n",
    "        pbar = ProgressBar()\n",
    "        pbar.attach(trainer)\n",
    "\n",
    "        checkpoint_handler = ModelCheckpoint(\n",
    "            'checkpoints',\n",
    "            'best_model',\n",
    "            n_saved=1,\n",
    "            require_empty=False,\n",
    "            score_function=lambda engine: -engine.state.metrics['loss'],\n",
    "            score_name='val_loss'\n",
    "        )\n",
    "        evaluator.add_event_handler(Events.COMPLETED, checkpoint_handler, {'model': self})\n",
    "\n",
    "        early_stopping = EarlyStopping(\n",
    "            patience=patience,\n",
    "            score_function=lambda engine: -engine.state.metrics['loss'],\n",
    "            trainer=trainer\n",
    "        )\n",
    "        evaluator.add_event_handler(Events.COMPLETED, early_stopping)\n",
    "\n",
    "        @trainer.on(Events.EPOCH_COMPLETED)\n",
    "        def log_training_results(engine):\n",
    "            evaluator.run(train_loader)\n",
    "            metrics = evaluator.state.metrics\n",
    "            train_loss = metrics['loss']\n",
    "            history['train_loss'].append(train_loss)\n",
    "            pbar.log_message(f\"Epoch [{engine.state.epoch}/{num_epochs}] Train Loss: {train_loss}\")\n",
    "\n",
    "        @trainer.on(Events.EPOCH_COMPLETED)\n",
    "        def log_validation_results(engine):\n",
    "            evaluator.run(val_loader)\n",
    "            metrics = evaluator.state.metrics\n",
    "            val_loss = metrics['loss']\n",
    "            history['val_loss'].append(val_loss)\n",
    "            pbar.log_message(f\"Epoch [{engine.state.epoch}/{num_epochs}] Validation Loss: {val_loss}\")\n",
    "\n",
    "        trainer.run(train_loader, max_epochs=num_epochs)\n",
    "\n",
    "        best_model_path = checkpoint_handler.last_checkpoint\n",
    "        if best_model_path:\n",
    "            self.load_state_dict(torch.load(best_model_path))\n",
    "\n",
    "        return self, history"
   ],
   "id": "9466ee3c9256dd07",
   "outputs": [],
   "execution_count": 6
  },
  {
   "metadata": {
    "ExecuteTime": {
     "end_time": "2025-02-23T17:26:20.900492Z",
     "start_time": "2025-02-23T17:26:20.891478Z"
    }
   },
   "cell_type": "code",
   "source": [
    "def objective(trial, input_size: int, output_size, output_sequence_length, patience, num_epochs, preprocessor,\n",
    "              device):\n",
    "    model_type = trial.suggest_categorical('model_type', ['lstm', 'gru'])\n",
    "    hidden_size = trial.suggest_categorical('hidden_size', [16, 32, 64, 128, 256])\n",
    "    num_layers = trial.suggest_int('num_layers', 1, 4)\n",
    "    dropout = trial.suggest_float('dropout', 0.0, 0.5, step=0.05)\n",
    "    learning_rate = trial.suggest_float('learning_rate', 1e-5, 1e-1)\n",
    "    batch_size = trial.suggest_categorical('batch_size', [8, 16, 32, 64, 128, 256])\n",
    "    weight_decay = trial.suggest_float('weight_decay', 1e-6, 1e-1, log=True)\n",
    "\n",
    "    train_loader, val_loader, _ = preprocessor.get_loaders(batch_size)\n",
    "    model = StationTrafficModel(model_type, input_size, hidden_size, output_size,\n",
    "                                output_sequence_length, num_layers,\n",
    "                                dropout)\n",
    "    criterion = nn.MSELoss()\n",
    "    optimizer = optim.Adam(model.parameters(), lr=learning_rate, weight_decay=weight_decay)\n",
    "\n",
    "    model.train_model(criterion, optimizer, train_loader, val_loader, num_epochs, patience, device)\n",
    "    evaluator = ModelEvaluator(model)\n",
    "    targets, predictions = evaluator.evaluate(val_loader)\n",
    "    metrics = evaluator.calculate_metrics(targets, predictions)\n",
    "\n",
    "    return metrics['mse']"
   ],
   "id": "a6a98e80f71e6258",
   "outputs": [],
   "execution_count": 7
  },
  {
   "metadata": {
    "ExecuteTime": {
     "end_time": "2025-02-23T17:26:20.920711Z",
     "start_time": "2025-02-23T17:26:20.914544Z"
    }
   },
   "cell_type": "code",
   "source": [
    "# Hyperparameter Tuning\n",
    "if PERFORM_TUNING:\n",
    "    study = optuna.create_study(direction='minimize')\n",
    "    study.optimize(lambda trial: objective(trial, input_size, output_size,\n",
    "                                           OUTPUT_SEQUENCE_LENGTH, PATIENCE, NUM_EPOCHS, preprocessor, device),\n",
    "                   n_trials=NUM_TRIALS)\n",
    "    print(\"Best hyperparameters:\", study.best_params)\n",
    "    params = params | study.best_params"
   ],
   "id": "c7cf3bda7f942df6",
   "outputs": [],
   "execution_count": 8
  },
  {
   "metadata": {
    "ExecuteTime": {
     "end_time": "2025-02-23T17:29:31.289572Z",
     "start_time": "2025-02-23T17:26:20.937458Z"
    }
   },
   "cell_type": "code",
   "source": [
    "# Training\n",
    "train_loader, val_loader, test_loader = preprocessor.get_loaders(params['batch_size'])\n",
    "model = StationTrafficModel(params['model_type'], input_size, params['hidden_size'],\n",
    "                            output_size,\n",
    "                            OUTPUT_SEQUENCE_LENGTH, params['num_layers'],\n",
    "                            params['dropout'])\n",
    "criterion = nn.MSELoss()\n",
    "optimizer = optim.Adam(model.parameters(), lr=params['learning_rate'], weight_decay=params['weight_decay'])\n",
    "model.train_model(criterion, optimizer, train_loader, val_loader, NUM_EPOCHS, PATIENCE, device)"
   ],
   "id": "6bc102376fa7bd8b",
   "outputs": [
    {
     "data": {
      "text/plain": [
       "[1/1598]   0%|           [00:00<?]"
      ],
      "application/vnd.jupyter.widget-view+json": {
       "version_major": 2,
       "version_minor": 0,
       "model_id": "be947a38821e40eabb8e02cac4196967"
      }
     },
     "metadata": {},
     "output_type": "display_data"
    },
    {
     "name": "stdout",
     "output_type": "stream",
     "text": [
      "Epoch [1/20] Train Loss: 606.4524662010135\n",
      "Epoch [1/20] Validation Loss: 48.9383379721075\n"
     ]
    },
    {
     "data": {
      "text/plain": [
       "[1/1598]   0%|           [00:00<?]"
      ],
      "application/vnd.jupyter.widget-view+json": {
       "version_major": 2,
       "version_minor": 0,
       "model_id": "4ca97e3ee14b41fbb8c46617a48784ea"
      }
     },
     "metadata": {},
     "output_type": "display_data"
    },
    {
     "name": "stdout",
     "output_type": "stream",
     "text": [
      "Epoch [2/20] Train Loss: 458.16982645614445\n",
      "Epoch [2/20] Validation Loss: 43.8902181720237\n"
     ]
    },
    {
     "data": {
      "text/plain": [
       "[1/1598]   0%|           [00:00<?]"
      ],
      "application/vnd.jupyter.widget-view+json": {
       "version_major": 2,
       "version_minor": 0,
       "model_id": "e7365977d3574f1a9a7c7bb6491109d6"
      }
     },
     "metadata": {},
     "output_type": "display_data"
    },
    {
     "name": "stdout",
     "output_type": "stream",
     "text": [
      "Epoch [3/20] Train Loss: 375.1783373442116\n",
      "Epoch [3/20] Validation Loss: 44.090104447237685\n"
     ]
    },
    {
     "data": {
      "text/plain": [
       "[1/1598]   0%|           [00:00<?]"
      ],
      "application/vnd.jupyter.widget-view+json": {
       "version_major": 2,
       "version_minor": 0,
       "model_id": "d7525acdfecb45a29d841c385bb57df9"
      }
     },
     "metadata": {},
     "output_type": "display_data"
    },
    {
     "name": "stderr",
     "output_type": "stream",
     "text": [
      "2025-02-23 12:29:27,641 ignite.handlers.early_stopping.EarlyStopping INFO: EarlyStopping: Stop training\n"
     ]
    },
    {
     "name": "stdout",
     "output_type": "stream",
     "text": [
      "Epoch [4/20] Train Loss: 338.10377413863944\n",
      "Epoch [4/20] Validation Loss: 41.09146615191237\n"
     ]
    },
    {
     "data": {
      "text/plain": [
       "(StationTrafficModel(\n",
       "   (encoder): LSTM(10, 256, num_layers=3, batch_first=True, dropout=0.3)\n",
       "   (decoder): GRU(1, 256, batch_first=True)\n",
       "   (output_layer): Linear(in_features=256, out_features=1, bias=True)\n",
       " ),\n",
       " {'train_loss': [606.4524662010135,\n",
       "   458.16982645614445,\n",
       "   375.1783373442116,\n",
       "   338.10377413863944],\n",
       "  'val_loss': [48.9383379721075,\n",
       "   43.8902181720237,\n",
       "   44.090104447237685,\n",
       "   41.09146615191237]})"
      ]
     },
     "execution_count": 9,
     "metadata": {},
     "output_type": "execute_result"
    }
   ],
   "execution_count": 9
  },
  {
   "metadata": {
    "ExecuteTime": {
     "end_time": "2025-02-23T17:34:46.371015Z",
     "start_time": "2025-02-23T17:34:38.757429Z"
    }
   },
   "cell_type": "code",
   "source": [
    "# Evaluation\n",
    "evaluator = ModelEvaluator(model)\n",
    "targets, predictions = evaluator.evaluate(test_loader)\n",
    "metrics = evaluator.calculate_metrics(targets, predictions)\n",
    "evaluator.plot_predictions(targets, predictions)"
   ],
   "id": "7227235401c42de3",
   "outputs": [
    {
     "name": "stdout",
     "output_type": "stream",
     "text": [
      "\n",
      "Model Evaluation Metrics:\n",
      "mse: 75.1494\n",
      "rmse: 8.6689\n",
      "mae: 5.3998\n"
     ]
    },
    {
     "data": {
      "text/plain": [
       "<Figure size 1000x600 with 1 Axes>"
      ],
      "image/png": "[encoded data removed]"
     },
     "metadata": {},
     "output_type": "display_data"
    }
   ],
   "execution_count": 22
  }
 ],
 "metadata": {
  "kernelspec": {
   "name": "python3",
   "language": "python",
   "display_name": "Python 3 (ipykernel)"
  }
 },
 "nbformat": 5,
 "nbformat_minor": 9
}
