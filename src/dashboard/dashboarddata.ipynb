{
 "cells": [
  {
   "cell_type": "code",
   "execution_count": 1,
   "metadata": {},
   "outputs": [],
   "source": [
    "import matplotlib.pyplot as plt\n",
    "import pandas as pd\n",
    "import seaborn as sns\n",
    "import numpy as np"
   ]
  },
  {
   "cell_type": "code",
   "execution_count": 2,
   "metadata": {},
   "outputs": [
    {
     "name": "stderr",
     "output_type": "stream",
     "text": [
      "C:\\Users\\swapn\\AppData\\Local\\Temp\\ipykernel_19564\\1721040238.py:2: DtypeWarning: Columns (5,7) have mixed types. Specify dtype option on import or set low_memory=False.\n",
      "  data = pd.read_csv(DATA_PATH)\n"
     ]
    },
    {
     "name": "stdout",
     "output_type": "stream",
     "text": [
      "            ride_id rideable_type           started_at             ended_at  \\\n",
      "0  A847FADBBC638E45   docked_bike  2020-04-26 17:45:14  2020-04-26 18:12:03   \n",
      "1  5405B80E996FF60D   docked_bike  2020-04-17 17:08:54  2020-04-17 17:17:03   \n",
      "2  5DD24A79A4E006F4   docked_bike  2020-04-01 17:54:13  2020-04-01 18:08:36   \n",
      "3  2A59BBDF5CDBA725   docked_bike  2020-04-07 12:50:19  2020-04-07 13:02:31   \n",
      "4  27AD306C119C6158   docked_bike  2020-04-18 10:22:59  2020-04-18 11:15:54   \n",
      "\n",
      "             start_station_name start_station_id             end_station_name  \\\n",
      "0                  Eckhart Park             86.0  Lincoln Ave & Diversey Pkwy   \n",
      "1     Drake Ave & Fullerton Ave            503.0              Kosciuszko Park   \n",
      "2          McClurg Ct & Erie St            142.0   Indiana Ave & Roosevelt Rd   \n",
      "3  California Ave & Division St            216.0       Wood St & Augusta Blvd   \n",
      "4          Rush St & Hubbard St            125.0   Sheridan Rd & Lawrence Ave   \n",
      "\n",
      "  end_station_id  start_lat  start_lng  end_lat  end_lng member_casual  \n",
      "0          152.0    41.8964   -87.6610  41.9322 -87.6586        member  \n",
      "1          499.0    41.9244   -87.7154  41.9306 -87.7238        member  \n",
      "2          255.0    41.8945   -87.6179  41.8679 -87.6230        member  \n",
      "3          657.0    41.9030   -87.6975  41.8992 -87.6722        member  \n",
      "4          323.0    41.8902   -87.6262  41.9695 -87.6547        casual  \n"
     ]
    }
   ],
   "source": [
    "DATA_PATH = '../../data/combined_tripdata.csv'\n",
    "data = pd.read_csv(DATA_PATH)\n",
    "print(data.head())"
   ]
  },
  {
   "cell_type": "code",
   "execution_count": 3,
   "metadata": {},
   "outputs": [
    {
     "name": "stdout",
     "output_type": "stream",
     "text": [
      "<class 'pandas.core.frame.DataFrame'>\n",
      "RangeIndex: 25256682 entries, 0 to 25256681\n",
      "Data columns (total 13 columns):\n",
      " #   Column              Dtype  \n",
      "---  ------              -----  \n",
      " 0   ride_id             object \n",
      " 1   rideable_type       object \n",
      " 2   started_at          object \n",
      " 3   ended_at            object \n",
      " 4   start_station_name  object \n",
      " 5   start_station_id    object \n",
      " 6   end_station_name    object \n",
      " 7   end_station_id      object \n",
      " 8   start_lat           float64\n",
      " 9   start_lng           float64\n",
      " 10  end_lat             float64\n",
      " 11  end_lng             float64\n",
      " 12  member_casual       object \n",
      "dtypes: float64(4), object(9)\n",
      "memory usage: 2.4+ GB\n",
      "None\n"
     ]
    }
   ],
   "source": [
    "print(data.info())"
   ]
  },
  {
   "cell_type": "code",
   "execution_count": 4,
   "metadata": {},
   "outputs": [
    {
     "name": "stdout",
     "output_type": "stream",
     "text": [
      "          start_lat     start_lng       end_lat       end_lng\n",
      "count  2.525668e+07  2.525668e+07  2.522829e+07  2.522829e+07\n",
      "mean   4.190235e+01 -8.764650e+01  4.190264e+01 -8.764668e+01\n",
      "std    4.529851e-02  2.808681e-02  5.557035e-02  8.342695e-02\n",
      "min    4.163000e+01 -8.794000e+01  0.000000e+00 -1.440500e+02\n",
      "25%    4.188103e+01 -8.766000e+01  4.188132e+01 -8.766014e+01\n",
      "50%    4.189897e+01 -8.764312e+01  4.189993e+01 -8.764331e+01\n",
      "75%    4.193000e+01 -8.762932e+01  4.193000e+01 -8.762932e+01\n",
      "max    4.563503e+01 -7.379648e+01  8.796000e+01  1.525300e+02\n"
     ]
    }
   ],
   "source": [
    "print(data.describe())"
   ]
  },
  {
   "cell_type": "code",
   "execution_count": 5,
   "metadata": {},
   "outputs": [],
   "source": [
    "# Check for non-standard datetime formats in the 'started_at' column\n",
    "data['started_at'] = data['started_at'].astype(str)  # Ensure it's a string for processing\n",
    "data['ended_at'] = data['ended_at'].astype(str)"
   ]
  },
  {
   "cell_type": "code",
   "execution_count": 6,
   "metadata": {},
   "outputs": [
    {
     "data": {
      "text/plain": [
       "(Empty DataFrame\n",
       " Columns: [ride_id, rideable_type, started_at, ended_at, start_station_name, start_station_id, end_station_name, end_station_id, start_lat, start_lng, end_lat, end_lng, member_casual]\n",
       " Index: [],\n",
       " Empty DataFrame\n",
       " Columns: [ride_id, rideable_type, started_at, ended_at, start_station_name, start_station_id, end_station_name, end_station_id, start_lat, start_lng, end_lat, end_lng, member_casual]\n",
       " Index: [])"
      ]
     },
     "execution_count": 6,
     "metadata": {},
     "output_type": "execute_result"
    }
   ],
   "source": [
    "# Identify problematic rows\n",
    "invalid_start_times = data[~data['started_at'].str.match(r'\\d{4}-\\d{2}-\\d{2} \\d{2}:\\d{2}:\\d{2}(\\.\\d+)?', na=False)]\n",
    "invalid_end_times = data[~data['ended_at'].str.match(r'\\d{4}-\\d{2}-\\d{2} \\d{2}:\\d{2}:\\d{2}(\\.\\d+)?', na=False)]\n",
    "# Display problematic rows\n",
    "invalid_start_times.head(), invalid_end_times.head()"
   ]
  },
  {
   "cell_type": "code",
   "execution_count": 7,
   "metadata": {},
   "outputs": [],
   "source": [
    "# Convert timestamps while handling extra milliseconds\n",
    "data['started_at'] = pd.to_datetime(data['started_at'], format='%Y-%m-%d %H:%M:%S', errors='coerce')\n",
    "data['ended_at'] = pd.to_datetime(data['ended_at'], format='%Y-%m-%d %H:%M:%S', errors='coerce')\n"
   ]
  },
  {
   "cell_type": "code",
   "execution_count": 8,
   "metadata": {},
   "outputs": [
    {
     "name": "stdout",
     "output_type": "stream",
     "text": [
      "<class 'pandas.core.frame.DataFrame'>\n",
      "RangeIndex: 25256682 entries, 0 to 25256681\n",
      "Data columns (total 13 columns):\n",
      " #   Column              Dtype         \n",
      "---  ------              -----         \n",
      " 0   ride_id             object        \n",
      " 1   rideable_type       object        \n",
      " 2   started_at          datetime64[ns]\n",
      " 3   ended_at            datetime64[ns]\n",
      " 4   start_station_name  object        \n",
      " 5   start_station_id    object        \n",
      " 6   end_station_name    object        \n",
      " 7   end_station_id      object        \n",
      " 8   start_lat           float64       \n",
      " 9   start_lng           float64       \n",
      " 10  end_lat             float64       \n",
      " 11  end_lng             float64       \n",
      " 12  member_casual       object        \n",
      "dtypes: datetime64[ns](2), float64(4), object(7)\n",
      "memory usage: 2.4+ GB\n",
      "None\n"
     ]
    }
   ],
   "source": [
    "print(data.info())"
   ]
  },
  {
   "cell_type": "code",
   "execution_count": 9,
   "metadata": {},
   "outputs": [
    {
     "data": {
      "text/html": [
       "<div>\n",
       "<style scoped>\n",
       "    .dataframe tbody tr th:only-of-type {\n",
       "        vertical-align: middle;\n",
       "    }\n",
       "\n",
       "    .dataframe tbody tr th {\n",
       "        vertical-align: top;\n",
       "    }\n",
       "\n",
       "    .dataframe thead th {\n",
       "        text-align: right;\n",
       "    }\n",
       "</style>\n",
       "<table border=\"1\" class=\"dataframe\">\n",
       "  <thead>\n",
       "    <tr style=\"text-align: right;\">\n",
       "      <th></th>\n",
       "      <th>started_at</th>\n",
       "      <th>ended_at</th>\n",
       "    </tr>\n",
       "  </thead>\n",
       "  <tbody>\n",
       "    <tr>\n",
       "      <th>0</th>\n",
       "      <td>2020-04-26 17:45:14</td>\n",
       "      <td>2020-04-26 18:12:03</td>\n",
       "    </tr>\n",
       "    <tr>\n",
       "      <th>1</th>\n",
       "      <td>2020-04-17 17:08:54</td>\n",
       "      <td>2020-04-17 17:17:03</td>\n",
       "    </tr>\n",
       "    <tr>\n",
       "      <th>2</th>\n",
       "      <td>2020-04-01 17:54:13</td>\n",
       "      <td>2020-04-01 18:08:36</td>\n",
       "    </tr>\n",
       "    <tr>\n",
       "      <th>3</th>\n",
       "      <td>2020-04-07 12:50:19</td>\n",
       "      <td>2020-04-07 13:02:31</td>\n",
       "    </tr>\n",
       "    <tr>\n",
       "      <th>4</th>\n",
       "      <td>2020-04-18 10:22:59</td>\n",
       "      <td>2020-04-18 11:15:54</td>\n",
       "    </tr>\n",
       "  </tbody>\n",
       "</table>\n",
       "</div>"
      ],
      "text/plain": [
       "           started_at            ended_at\n",
       "0 2020-04-26 17:45:14 2020-04-26 18:12:03\n",
       "1 2020-04-17 17:08:54 2020-04-17 17:17:03\n",
       "2 2020-04-01 17:54:13 2020-04-01 18:08:36\n",
       "3 2020-04-07 12:50:19 2020-04-07 13:02:31\n",
       "4 2020-04-18 10:22:59 2020-04-18 11:15:54"
      ]
     },
     "execution_count": 9,
     "metadata": {},
     "output_type": "execute_result"
    }
   ],
   "source": [
    "# Drop rows with invalid datetime conversion (NaT values)\n",
    "data = data.dropna(subset=['started_at', 'ended_at'])\n",
    "\n",
    "# Verify the conversion\n",
    "data[['started_at', 'ended_at']].head()"
   ]
  },
  {
   "cell_type": "code",
   "execution_count": 10,
   "metadata": {},
   "outputs": [],
   "source": [
    "# Remove rows where 'ended_at' is earlier than 'started_at' (data inconsistencies)\n",
    "data = data[data['ended_at'] >= data['started_at']]"
   ]
  },
  {
   "cell_type": "code",
   "execution_count": 11,
   "metadata": {},
   "outputs": [],
   "source": [
    "# Compute ride duration in minutes\n",
    "# Compute ride distance using the Haversine formula\n",
    "def haversine(lat1, lon1, lat2, lon2):\n",
    "    R = 6371  # Radius of Earth in km\n",
    "    lat1, lon1, lat2, lon2 = np.radians([lat1, lon1, lat2, lon2])\n",
    "    dlat = lat2 - lat1\n",
    "    dlon = lon2 - lon1\n",
    "    a = np.sin(dlat/2.0)**2 + np.cos(lat1) * np.cos(lat2) * np.sin(dlon/2.0)**2\n",
    "    c = 2 * np.arctan2(np.sqrt(a), np.sqrt(1 - a))\n",
    "    return R * c\n",
    "\n",
    "data['ride_duration'] = (data['ended_at'] - data['started_at']).dt.total_seconds() / 60\n",
    "data['ride_distance_km'] = data.apply(lambda row: haversine(row['start_lat'], row['start_lng'], row['end_lat'], row['end_lng']), axis=1)\n",
    "data['start_hour'] = data['started_at'].dt.hour\n",
    "data['start_dayofweek'] = data['started_at'].dt.dayofweek\n"
   ]
  },
  {
   "cell_type": "code",
   "execution_count": 12,
   "metadata": {},
   "outputs": [
    {
     "name": "stdout",
     "output_type": "stream",
     "text": [
      "                          started_at                       ended_at  \\\n",
      "count                       21079114                       21079114   \n",
      "mean   2022-05-30 07:51:03.722923264  2022-05-30 08:12:00.431092736   \n",
      "min              2020-04-01 00:00:30            2020-04-01 00:10:45   \n",
      "25%    2021-07-08 05:37:20.750000128            2021-07-08 06:00:42   \n",
      "50%       2022-06-15 06:33:41.500000     2022-06-15 06:53:23.500000   \n",
      "75%    2023-06-20 19:03:28.750000128            2023-06-20 19:20:20   \n",
      "max              2024-05-31 23:59:57            2024-06-02 00:56:55   \n",
      "std                              NaN                            NaN   \n",
      "\n",
      "          start_lat     start_lng       end_lat       end_lng  ride_duration  \\\n",
      "count  2.107911e+07  2.107911e+07  2.105571e+07  2.105571e+07   2.107911e+07   \n",
      "mean   4.190228e+01 -8.764658e+01  4.190256e+01 -8.764675e+01   2.094514e+01   \n",
      "min    4.163000e+01 -8.794000e+01  0.000000e+00 -8.897000e+01   0.000000e+00   \n",
      "25%    4.188111e+01 -8.766000e+01  4.188132e+01 -8.766028e+01   6.116667e+00   \n",
      "50%    4.189918e+01 -8.764319e+01  4.190000e+01 -8.764335e+01   1.095000e+01   \n",
      "75%    4.193000e+01 -8.762932e+01  4.193000e+01 -8.762932e+01   2.003333e+01   \n",
      "max    4.563503e+01 -7.379648e+01  4.237000e+01  0.000000e+00   9.848907e+04   \n",
      "std    4.559598e-02  2.823480e-02  5.483177e-02  6.934771e-02   1.867822e+02   \n",
      "\n",
      "       ride_distance_km    start_hour  start_dayofweek  \n",
      "count      2.105571e+07  2.107911e+07     2.107911e+07  \n",
      "mean       2.151812e+00  1.419234e+01     3.102428e+00  \n",
      "min        0.000000e+00  0.000000e+00     0.000000e+00  \n",
      "25%        8.694142e-01  1.100000e+01     1.000000e+00  \n",
      "50%        1.596269e+00  1.500000e+01     3.000000e+00  \n",
      "75%        2.837387e+00  1.800000e+01     5.000000e+00  \n",
      "max        9.815429e+03  2.300000e+01     6.000000e+00  \n",
      "std        7.358869e+00  4.929343e+00     1.979557e+00  \n"
     ]
    }
   ],
   "source": [
    "print(data.describe())"
   ]
  },
  {
   "cell_type": "code",
   "execution_count": 13,
   "metadata": {},
   "outputs": [],
   "source": [
    "#convert the start_dayofweek to a string\n",
    "data['start_dayofweek'] = data['started_at'].dt.dayofweek\n",
    "data['start_dayofweek'] = data['start_dayofweek'].replace({0: 'Mon', 1: 'Tue', 2: 'Wed', 3: 'Thur', 4: 'Fri', 5: 'Sat', 6: 'Sun'})"
   ]
  },
  {
   "cell_type": "code",
   "execution_count": 14,
   "metadata": {},
   "outputs": [
    {
     "data": {
      "text/html": [
       "<div>\n",
       "<style scoped>\n",
       "    .dataframe tbody tr th:only-of-type {\n",
       "        vertical-align: middle;\n",
       "    }\n",
       "\n",
       "    .dataframe tbody tr th {\n",
       "        vertical-align: top;\n",
       "    }\n",
       "\n",
       "    .dataframe thead th {\n",
       "        text-align: right;\n",
       "    }\n",
       "</style>\n",
       "<table border=\"1\" class=\"dataframe\">\n",
       "  <thead>\n",
       "    <tr style=\"text-align: right;\">\n",
       "      <th></th>\n",
       "      <th>rideable_type</th>\n",
       "      <th>started_at</th>\n",
       "      <th>start_station_name</th>\n",
       "      <th>start_lat</th>\n",
       "      <th>start_lng</th>\n",
       "      <th>member_casual</th>\n",
       "      <th>ride_duration</th>\n",
       "      <th>ride_distance_km</th>\n",
       "      <th>start_hour</th>\n",
       "      <th>start_dayofweek</th>\n",
       "    </tr>\n",
       "  </thead>\n",
       "  <tbody>\n",
       "    <tr>\n",
       "      <th>0</th>\n",
       "      <td>docked_bike</td>\n",
       "      <td>2020-04-26 17:45:14</td>\n",
       "      <td>Eckhart Park</td>\n",
       "      <td>41.8964</td>\n",
       "      <td>-87.6610</td>\n",
       "      <td>member</td>\n",
       "      <td>26.816667</td>\n",
       "      <td>3.985729</td>\n",
       "      <td>17</td>\n",
       "      <td>Sun</td>\n",
       "    </tr>\n",
       "    <tr>\n",
       "      <th>1</th>\n",
       "      <td>docked_bike</td>\n",
       "      <td>2020-04-17 17:08:54</td>\n",
       "      <td>Drake Ave &amp; Fullerton Ave</td>\n",
       "      <td>41.9244</td>\n",
       "      <td>-87.7154</td>\n",
       "      <td>member</td>\n",
       "      <td>8.150000</td>\n",
       "      <td>0.978873</td>\n",
       "      <td>17</td>\n",
       "      <td>Fri</td>\n",
       "    </tr>\n",
       "    <tr>\n",
       "      <th>2</th>\n",
       "      <td>docked_bike</td>\n",
       "      <td>2020-04-01 17:54:13</td>\n",
       "      <td>McClurg Ct &amp; Erie St</td>\n",
       "      <td>41.8945</td>\n",
       "      <td>-87.6179</td>\n",
       "      <td>member</td>\n",
       "      <td>14.383333</td>\n",
       "      <td>2.987769</td>\n",
       "      <td>17</td>\n",
       "      <td>Wed</td>\n",
       "    </tr>\n",
       "    <tr>\n",
       "      <th>3</th>\n",
       "      <td>docked_bike</td>\n",
       "      <td>2020-04-07 12:50:19</td>\n",
       "      <td>California Ave &amp; Division St</td>\n",
       "      <td>41.9030</td>\n",
       "      <td>-87.6975</td>\n",
       "      <td>member</td>\n",
       "      <td>12.200000</td>\n",
       "      <td>2.136093</td>\n",
       "      <td>12</td>\n",
       "      <td>Tue</td>\n",
       "    </tr>\n",
       "    <tr>\n",
       "      <th>4</th>\n",
       "      <td>docked_bike</td>\n",
       "      <td>2020-04-18 10:22:59</td>\n",
       "      <td>Rush St &amp; Hubbard St</td>\n",
       "      <td>41.8902</td>\n",
       "      <td>-87.6262</td>\n",
       "      <td>casual</td>\n",
       "      <td>52.916667</td>\n",
       "      <td>9.127509</td>\n",
       "      <td>10</td>\n",
       "      <td>Sat</td>\n",
       "    </tr>\n",
       "  </tbody>\n",
       "</table>\n",
       "</div>"
      ],
      "text/plain": [
       "  rideable_type          started_at            start_station_name  start_lat  \\\n",
       "0   docked_bike 2020-04-26 17:45:14                  Eckhart Park    41.8964   \n",
       "1   docked_bike 2020-04-17 17:08:54     Drake Ave & Fullerton Ave    41.9244   \n",
       "2   docked_bike 2020-04-01 17:54:13          McClurg Ct & Erie St    41.8945   \n",
       "3   docked_bike 2020-04-07 12:50:19  California Ave & Division St    41.9030   \n",
       "4   docked_bike 2020-04-18 10:22:59          Rush St & Hubbard St    41.8902   \n",
       "\n",
       "   start_lng member_casual  ride_duration  ride_distance_km  start_hour  \\\n",
       "0   -87.6610        member      26.816667          3.985729          17   \n",
       "1   -87.7154        member       8.150000          0.978873          17   \n",
       "2   -87.6179        member      14.383333          2.987769          17   \n",
       "3   -87.6975        member      12.200000          2.136093          12   \n",
       "4   -87.6262        casual      52.916667          9.127509          10   \n",
       "\n",
       "  start_dayofweek  \n",
       "0             Sun  \n",
       "1             Fri  \n",
       "2             Wed  \n",
       "3             Tue  \n",
       "4             Sat  "
      ]
     },
     "execution_count": 14,
     "metadata": {},
     "output_type": "execute_result"
    }
   ],
   "source": [
    "#drop ride_id column\n",
    "data = data.drop(columns=['ride_id'])   \n",
    "data = data.drop(columns=['start_station_id'])\n",
    "data = data.drop(columns=['end_station_id'])\n",
    "data = data.drop(columns=['ended_at'])\n",
    "data = data.drop(columns=['end_station_name']) \n",
    "data = data.drop(columns=['end_lat'])\n",
    "data = data.drop(columns=['end_lng'])\n",
    "data.head()"
   ]
  },
  {
   "cell_type": "code",
   "execution_count": 15,
   "metadata": {},
   "outputs": [
    {
     "name": "stdout",
     "output_type": "stream",
     "text": [
      "['docked_bike' 'electric_bike' 'classic_bike']\n"
     ]
    }
   ],
   "source": [
    "#print distinct rideable_type\n",
    "print(data['rideable_type'].unique())\n",
    "replace_map = {'rideable_type': {'docked_bike': 'Docked', 'electric_bike': 'Electric', 'classic_bike': 'Classic'}}\n",
    "data.replace(replace_map, inplace=True)\n",
    "#Replace member_casual values like 'member' with 'Member' and 'casual' with 'Casual'   \n",
    "replace_map = {'member_casual': {'member': 'Member', 'casual': 'Casual'}}\n",
    "data.replace(replace_map, inplace=True)"
   ]
  },
  {
   "cell_type": "code",
   "execution_count": 16,
   "metadata": {},
   "outputs": [
    {
     "name": "stdout",
     "output_type": "stream",
     "text": [
      "2020-04-01 00:00:30\n",
      "2024-05-31 23:59:57\n",
      "started_at\n",
      "2023    5719605\n",
      "2021    5594916\n",
      "2022    4966287\n",
      "2020    3104248\n",
      "2024    1694058\n",
      "Name: count, dtype: int64\n"
     ]
    }
   ],
   "source": [
    "# print min and max started_at\n",
    "print(data['started_at'].min())\n",
    "print(data['started_at'].max())\n",
    "print(data['started_at'].dt.year.value_counts())\n",
    "\n",
    "\n",
    "data_2024 = data[data['started_at'].dt.year >= 2023]\n",
    "data_2024.to_csv('../../data/2023_2024_tripdata.csv', index=False)"
   ]
  },
  {
   "cell_type": "code",
   "execution_count": 17,
   "metadata": {},
   "outputs": [
    {
     "name": "stdout",
     "output_type": "stream",
     "text": [
      "   Unnamed: 0  Actual  Predictions           started_at\n",
      "0    20205345    4.62     9.314082  2024-04-26 12:58:49\n",
      "1    20205346    7.78     9.976063  2024-04-08 21:07:05\n",
      "2    20205347    4.48    12.069504  2024-04-10 10:20:11\n",
      "3    20205348    3.37    12.069504  2024-04-10 06:10:16\n",
      "4    20205349    4.22    12.069504  2024-04-10 16:00:44\n"
     ]
    }
   ],
   "source": [
    "# read file actual_vs_predicted.csv and print the first 5 rows\n",
    "df = pd.read_csv('../../data/actual_vs_predicted.csv')\n",
    "print(df.head())"
   ]
  },
  {
   "cell_type": "code",
   "execution_count": 18,
   "metadata": {},
   "outputs": [],
   "source": [
    "# filter and export the data with started_at for year 2023 onwards\n",
    "df['started_at'] = pd.to_datetime(df['started_at'], format='%Y-%m-%d %H:%M:%S', errors='coerce')\n",
    "df_2023 = df[df['started_at'].dt.year >= 2023]\n",
    "df_2023.to_csv('../../data/2023_2024_actual_vs_predicted.csv', index=False)\n",
    "\n"
   ]
  }
 ],
 "metadata": {
  "kernelspec": {
   "display_name": ".venv",
   "language": "python",
   "name": "python3"
  },
  "language_info": {
   "codemirror_mode": {
    "name": "ipython",
    "version": 3
   },
   "file_extension": ".py",
   "mimetype": "text/x-python",
   "name": "python",
   "nbconvert_exporter": "python",
   "pygments_lexer": "ipython3",
   "version": "3.10.11"
  }
 },
 "nbformat": 4,
 "nbformat_minor": 2
}
